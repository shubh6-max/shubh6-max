{
 "cells": [
  {
   "cell_type": "markdown",
   "metadata": {},
   "source": [
    "<table align=\"center\" width=100%>\n",
    "    <tr>\n",
    "        <td width=\"10%\">\n",
    "            <img src=\"1200px-Python-logo-notext.svg.png\">\n",
    "        </td>\n",
    "        <td>\n",
    "            <div align=\"center\">\n",
    "                <font color=\"#21618C\" size=8px>\n",
    "                    <b> ITP Mini Project  <br>\n",
    "                    </b>\n",
    "                </font>\n",
    "            </div>\n",
    "        </td>\n",
    "    </tr>\n",
    "</table>"
   ]
  },
  {
   "cell_type": "markdown",
   "metadata": {},
   "source": [
    "<table align=\"center\" width=100%>\n",
    "    <tr>\n",
    "        <td width=\"5%\">\n",
    "            <img src=\"1200px-Python-logo-notext.svg.png\">\n",
    "        </td>\n",
    "        <td>\n",
    "            <div align=\"center\">\n",
    "                <font color=\"#21618C\" size=5px>\n",
    "                    <b> Courier Management System  <br>\n",
    "                    </b>\n",
    "                </font>\n",
    "            </div>\n",
    "        </td>\n",
    "    </tr>\n",
    "</table>"
   ]
  },
  {
   "cell_type": "markdown",
   "metadata": {},
   "source": [
    "For a seamless eCommerce shopping experience, it is essential to deliver the product promptly to the customer. And that’s where a professional courier service plays a vital role. 'FastTrack' courier company stores the relevant data of its clients and parcels in the form of dictionary. Create a dictionary for storing shipment information in key-value pairs. Shipment id is used as a key and list of other attributes like sender, receiver, start date, Delivery Date, Sender_location, Receiver_location, Delivery status, Shipping cost is associated with shipment id. Use the data shown in the table below."
   ]
  },
  {
   "cell_type": "markdown",
   "metadata": {},
   "source": [
    "<table align=\"center\" width=100%>\n",
    "    <tr>\n",
    "        <td width=\"15%\">\n",
    "            <img src=\"shipment.png\">\n",
    "        </td>\n",
    "        "
   ]
  },
  {
   "cell_type": "markdown",
   "metadata": {},
   "source": [
    "<table align=\"center\" width=100%>\n",
    "    <tr>\n",
    "        <td width=\"15%\">\n",
    "            <img src=\"client.png\">\n",
    "        </td>\n",
    "        "
   ]
  },
  {
   "cell_type": "markdown",
   "metadata": {},
   "source": [
    "<table align=\"left\">\n",
    "    <tr>\n",
    "        <td width=\"3.5%\">\n",
    "            <img src=\"1200px-Python-logo-notext.svg.png\">\n",
    "        </td>\n",
    "        <td>\n",
    "            <div align=\"left\", style=\"font-size:120%\">\n",
    "                <font color=\"#21618C\">\n",
    "                    <b>Q1. Create a Dictionary of lists to store the information of shipments given in the table</b>\n",
    "                </font>\n",
    "            </div>\n",
    "        </td>\n",
    "    </tr>\n",
    "</table>"
   ]
  },
  {
   "cell_type": "code",
   "execution_count": 9,
   "metadata": {},
   "outputs": [
    {
     "name": "stdout",
     "output_type": "stream",
     "text": [
      "{'Shipment id': ['Sender', 'Receiver', 'Start date', 'Delivery Date', 'Sender_location', 'Receiver_location', 'Delivery status', 'Shipping cost'], 101: [1, 3, '14-03-2020', '25-03-2020', 'Area1', 'Area6', 'Delivered', 198], 102: [4, 1, '18-06-2020', '09-07-2020', 'Area2', 'Area4', 'Delivered', 275], 103: [2, 3, '01-12-2020', None, 'Area5', 'Area1', 'In-Transit', 200], 104: [1, 5, '23-06-2020', '25-06-2020', 'Area1', 'Area4', 'Delivered', 314], 105: [3, 4, '29-08-2020', '10-09-2020', 'Area5', 'Area3', 'Delivered', 275], 106: [5, 2, '28-06-2020', None, 'Area3', 'Area1', 'In-Transit', 270]}\n"
     ]
    }
   ],
   "source": [
    "main_dict = {'Shipment id':['Sender','Receiver','Start date','Delivery Date','Sender_location','Receiver_location','Delivery status','Shipping cost'],\n",
    "             101:[1,3,'14-03-2020','25-03-2020','Area1','Area6','Delivered',198],\n",
    "             102:[4,1,'18-06-2020','09-07-2020','Area2','Area4','Delivered',275],\n",
    "             103:[2,3,'01-12-2020',None,'Area5','Area1','In-Transit',200],\n",
    "             104:[1,5,'23-06-2020','25-06-2020','Area1','Area4','Delivered',314],\n",
    "             105:[3,4,'29-08-2020','10-09-2020','Area5','Area3','Delivered',275],\n",
    "             106:[5,2,'28-06-2020',None,'Area3','Area1','In-Transit',270]}\n",
    "\n",
    "print(main_dict)"
   ]
  },
  {
   "cell_type": "markdown",
   "metadata": {},
   "source": [
    "<table align=\"left\">\n",
    "    <tr>\n",
    "        <td width=\"3.5%\">\n",
    "            <img src=\"1200px-Python-logo-notext.svg.png\">\n",
    "        </td>\n",
    "        <td>\n",
    "            <div align=\"left\", style=\"font-size:120%\">\n",
    "                <font color=\"#21618C\">\n",
    "                    <b>Q1.(a.) Create a copy of Dictionary </b>\n",
    "                </font>\n",
    "            </div>\n",
    "        </td>\n",
    "    </tr>\n",
    "</table>"
   ]
  },
  {
   "cell_type": "code",
   "execution_count": 10,
   "metadata": {},
   "outputs": [
    {
     "name": "stdout",
     "output_type": "stream",
     "text": [
      "{'Shipment id': ['Sender', 'Receiver', 'Start date', 'Delivery Date', 'Sender_location', 'Receiver_location', 'Delivery status', 'Shipping cost'], 101: [1, 3, '14-03-2020', '25-03-2020', 'Area1', 'Area6', 'Delivered', 198], 102: [4, 1, '18-06-2020', '09-07-2020', 'Area2', 'Area4', 'Delivered', 275], 103: [2, 3, '01-12-2020', None, 'Area5', 'Area1', 'In-Transit', 200], 104: [1, 5, '23-06-2020', '25-06-2020', 'Area1', 'Area4', 'Delivered', 314], 105: [3, 4, '29-08-2020', '10-09-2020', 'Area5', 'Area3', 'Delivered', 275], 106: [5, 2, '28-06-2020', None, 'Area3', 'Area1', 'In-Transit', 270]}\n"
     ]
    }
   ],
   "source": [
    "main_info1= main_dict.copy()\n",
    "print(main_dict)"
   ]
  },
  {
   "cell_type": "markdown",
   "metadata": {},
   "source": [
    "<table align=\"left\">\n",
    "    <tr>\n",
    "        <td width=\"3.5%\">\n",
    "            <img src=\"1200px-Python-logo-notext.svg.png\">\n",
    "        </td>\n",
    "        <td>\n",
    "            <div align=\"left\", style=\"font-size:120%\">\n",
    "                <font color=\"#21618C\">\n",
    "                    <b>Q2. Create a Dictionary of to store the information of clients given in the table.</b>\n",
    "                </font>\n",
    "            </div>\n",
    "        </td>\n",
    "    </tr>\n",
    "</table>"
   ]
  },
  {
   "cell_type": "code",
   "execution_count": 11,
   "metadata": {},
   "outputs": [
    {
     "name": "stdout",
     "output_type": "stream",
     "text": [
      "{'Client_id': [1, 2, 3, 4, 5], 'Client Name': ['Phillip', 'Omega III', 'Ramya', 'Romesh', 'John']}\n"
     ]
    }
   ],
   "source": [
    "client_data = {'Client_id':[1,2,3,4,5],'Client Name':['Phillip','Omega III','Ramya','Romesh','John']}\n",
    "print(client_data)"
   ]
  },
  {
   "cell_type": "markdown",
   "metadata": {},
   "source": [
    "<table align=\"left\">\n",
    "    <tr>\n",
    "        <td width=\"3.5%\">\n",
    "            <img src=\"1200px-Python-logo-notext.svg.png\">\n",
    "        </td>\n",
    "        <td>\n",
    "            <div align=\"left\", style=\"font-size:120%\">\n",
    "                <font color=\"#21618C\">\n",
    "                    <b>Q3. Write a code to replace client’s id with their respective name in shipment dictionary using a loop and dictionary comprehension </b>\n",
    "                </font>\n",
    "            </div>\n",
    "        </td>\n",
    "    </tr>\n",
    "</table>"
   ]
  },
  {
   "cell_type": "code",
   "execution_count": 12,
   "metadata": {},
   "outputs": [
    {
     "name": "stdout",
     "output_type": "stream",
     "text": [
      "{'Shipment id': ['Sender', 'Receiver', 'Start date', 'Delivery Date', 'Sender_location', 'Receiver_location', 'Delivery status', 'Shipping cost'], 101: ['Phillip', 'Ramya', '14-03-2020', '25-03-2020', 'Area1', 'Area6', 'Delivered', 198], 102: ['Romesh', 'Phillip', '18-06-2020', '09-07-2020', 'Area2', 'Area4', 'Delivered', 275], 103: ['Omega III', 'Ramya', '01-12-2020', None, 'Area5', 'Area1', 'In-Transit', 200], 104: ['Phillip', 'John', '23-06-2020', '25-06-2020', 'Area1', 'Area4', 'Delivered', 314], 105: ['Ramya', 'Romesh', '29-08-2020', '10-09-2020', 'Area5', 'Area3', 'Delivered', 275], 106: ['John', 'Omega III', '28-06-2020', None, 'Area3', 'Area1', 'In-Transit', 270]}\n"
     ]
    }
   ],
   "source": [
    "id_name = dict(zip(client_data['Client_id'],client_data[\"Client Name\"])) #Mapping keys with respective names\n",
    "\n",
    "for i in range(101,107):\n",
    "    main_dict[i][0:2]=[id_name[i] for i in main_dict[i][0:2]]\n",
    "\n",
    "print(main_dict)\n",
    "           "
   ]
  },
  {
   "cell_type": "markdown",
   "metadata": {},
   "source": [
    "<table align=\"left\">\n",
    "    <tr>\n",
    "        <td width=\"3.5%\">\n",
    "            <img src=\"1200px-Python-logo-notext.svg.png\">\n",
    "        </td>\n",
    "        <td>\n",
    "            <div align=\"left\", style=\"font-size:120%\">\n",
    "                <font color=\"#21618C\">\n",
    "                    <b>Q4. Print all shipment details that are sent by Phillip</b>\n",
    "                </font>\n",
    "            </div>\n",
    "        </td>\n",
    "    </tr>\n",
    "</table>"
   ]
  },
  {
   "cell_type": "code",
   "execution_count": 13,
   "metadata": {},
   "outputs": [
    {
     "name": "stdout",
     "output_type": "stream",
     "text": [
      "Shipment Details for philip: {'Shipment id': ['Sender', 'Receiver', 'Start date', 'Delivery Date', 'Sender_location', 'Receiver_location', 'Delivery status', 'Shipping cost'], 101: ['Phillip', 'Ramya', '14-03-2020', '25-03-2020', 'Area1', 'Area6', 'Delivered', 198], 104: ['Phillip', 'John', '23-06-2020', '25-06-2020', 'Area1', 'Area4', 'Delivered', 314]}\n"
     ]
    }
   ],
   "source": [
    "phillip = {}\n",
    "for i in main_dict.keys():\n",
    "    if i==\"Shipment id\":\n",
    "        phillip[i] = main_dict[i]\n",
    "    if main_dict[i][0] == \"Phillip\":\n",
    "        phillip[i] = main_dict[i]\n",
    "\n",
    "print(\"Shipment Details for philip:\",phillip)"
   ]
  },
  {
   "cell_type": "markdown",
   "metadata": {},
   "source": [
    "<table align=\"left\">\n",
    "    <tr>\n",
    "        <td width=\"3.5%\">\n",
    "            <img src=\"1200px-Python-logo-notext.svg.png\">\n",
    "        </td>\n",
    "        <td>\n",
    "            <div align=\"left\", style=\"font-size:120%\">\n",
    "                <font color=\"#21618C\">\n",
    "                    <b>Q5. Print all shipment details that are received by Ramya</b>\n",
    "                </font>\n",
    "            </div>\n",
    "        </td>\n",
    "    </tr>\n",
    "</table>"
   ]
  },
  {
   "cell_type": "code",
   "execution_count": 14,
   "metadata": {},
   "outputs": [
    {
     "name": "stdout",
     "output_type": "stream",
     "text": [
      "Shipment Details by Ramya: {'Shipment id': ['Sender', 'Receiver', 'Start date', 'Delivery Date', 'Sender_location', 'Receiver_location', 'Delivery status', 'Shipping cost'], 101: ['Phillip', 'Ramya', '14-03-2020', '25-03-2020', 'Area1', 'Area6', 'Delivered', 198], 103: ['Omega III', 'Ramya', '01-12-2020', None, 'Area5', 'Area1', 'In-Transit', 200]}\n"
     ]
    }
   ],
   "source": [
    "Ramya = {}\n",
    "for i in main_dict.keys():\n",
    "    if i==\"Shipment id\":\n",
    "        Ramya[i] = main_dict[i]\n",
    "    if main_dict[i][1] == \"Ramya\":\n",
    "        Ramya[i] = main_dict[i]\n",
    "\n",
    "print(\"Shipment Details by Ramya:\",Ramya)"
   ]
  },
  {
   "cell_type": "markdown",
   "metadata": {},
   "source": [
    "<table align=\"left\">\n",
    "    <tr>\n",
    "        <td width=\"3.5%\">\n",
    "            <img src=\"1200px-Python-logo-notext.svg.png\">\n",
    "        </td>\n",
    "        <td>\n",
    "            <div align=\"left\", style=\"font-size:120%\">\n",
    "                <font color=\"#21618C\">\n",
    "                    <b>Q6. Print all shipments which are in 'In-Transit' status</b>\n",
    "                </font>\n",
    "            </div>\n",
    "        </td>\n",
    "    </tr>\n",
    "</table>"
   ]
  },
  {
   "cell_type": "code",
   "execution_count": 15,
   "metadata": {},
   "outputs": [
    {
     "name": "stdout",
     "output_type": "stream",
     "text": [
      "Shipments in Transit Status: {'Shipment id': ['Sender', 'Receiver', 'Start date', 'Delivery Date', 'Sender_location', 'Receiver_location', 'Delivery status', 'Shipping cost'], 103: ['Omega III', 'Ramya', '01-12-2020', None, 'Area5', 'Area1', 'In-Transit', 200], 106: ['John', 'Omega III', '28-06-2020', None, 'Area3', 'Area1', 'In-Transit', 270]}\n"
     ]
    }
   ],
   "source": [
    "Transit = {}\n",
    "for i in main_dict.keys():\n",
    "    if i==\"Shipment id\":\n",
    "        Transit[i] = main_dict[i]\n",
    "    if main_dict[i][-2] == \"In-Transit\":\n",
    "        Transit[i] = main_dict[i]\n",
    "\n",
    "print(\"Shipments in Transit Status:\",Transit)"
   ]
  },
  {
   "cell_type": "markdown",
   "metadata": {},
   "source": [
    "<table align=\"left\">\n",
    "    <tr>\n",
    "        <td width=\"3.5%\">\n",
    "            <img src=\"1200px-Python-logo-notext.svg.png\">\n",
    "        </td>\n",
    "        <td>\n",
    "            <div align=\"left\", style=\"font-size:120%\">\n",
    "                <font color=\"#21618C\">\n",
    "                    <b>Q7. Print all shipments which are delivered within 7 days of courier Start date</b>\n",
    "                </font>\n",
    "            </div>\n",
    "        </td>\n",
    "    </tr>\n",
    "</table>"
   ]
  },
  {
   "cell_type": "code",
   "execution_count": 16,
   "metadata": {},
   "outputs": [
    {
     "name": "stdout",
     "output_type": "stream",
     "text": [
      "{'Shipment id': ['Sender', 'Receiver', 'Start date', 'Delivery Date', 'Sender_location', 'Receiver_location', 'Delivery status', 'Shipping cost'], 104: ['Phillip', 'John', '23-06-2020', '25-06-2020', 'Area1', 'Area4', 'Delivered', 314]}\n"
     ]
    }
   ],
   "source": [
    "from datetime import datetime\n",
    "Date = {}\n",
    "for i in main_dict.keys():\n",
    "    if i==\"Shipment id\":\n",
    "        Date[i] = main_dict[i]\n",
    "    else:\n",
    "        if main_dict[i][-2] != \"In-Transit\":\n",
    "            date_time = (datetime.strptime(main_dict[i][3], '%d-%m-%Y')-datetime.strptime(main_dict[i][2], '%d-%m-%Y')).days\n",
    "            if date_time<=7:\n",
    "                Date[i] = main_dict[i]\n",
    "        \n",
    "print(Date)\n",
    "        \n",
    "    "
   ]
  },
  {
   "cell_type": "markdown",
   "metadata": {},
   "source": [
    "<table align=\"left\">\n",
    "    <tr>\n",
    "        <td width=\"3.5%\">\n",
    "            <img src=\"1200px-Python-logo-notext.svg.png\">\n",
    "        </td>\n",
    "        <td>\n",
    "            <div align=\"left\", style=\"font-size:120%\">\n",
    "                <font color=\"#21618C\">\n",
    "                    <b>Q8. Print all shipments which are delivered after 15 days of courier start date or not yet been delivered.</b>\n",
    "                </font>\n",
    "            </div>\n",
    "        </td>\n",
    "    </tr>\n",
    "</table>"
   ]
  },
  {
   "cell_type": "code",
   "execution_count": 17,
   "metadata": {},
   "outputs": [
    {
     "name": "stdout",
     "output_type": "stream",
     "text": [
      "{'Shipment id': ['Sender', 'Receiver', 'Start date', 'Delivery Date', 'Sender_location', 'Receiver_location', 'Delivery status', 'Shipping cost'], 102: ['Romesh', 'Phillip', '18-06-2020', '09-07-2020', 'Area2', 'Area4', 'Delivered', 275], 103: ['Omega III', 'Ramya', '01-12-2020', None, 'Area5', 'Area1', 'In-Transit', 200], 106: ['John', 'Omega III', '28-06-2020', None, 'Area3', 'Area1', 'In-Transit', 270]}\n"
     ]
    }
   ],
   "source": [
    "Late_Delivery = {}                ##Create empty list\n",
    "for i in main_dict.keys():\n",
    "    if i==\"Shipment id\":\n",
    "        Late_Delivery[i] = main_dict[i]\n",
    "    elif main_dict[i][-2] == \"In-Transit\":\n",
    "        Late_Delivery[i] = main_dict[i]\n",
    "    else:\n",
    "        if main_dict[i][-2] != \"In-Transit\":\n",
    "            date_time = (datetime.strptime(main_dict[i][3], '%d-%m-%Y')-datetime.strptime(main_dict[i][2], '%d-%m-%Y')).days\n",
    "            if date_time>15:\n",
    "                Late_Delivery[i] = main_dict[i]\n",
    "        \n",
    "print(Late_Delivery)\n"
   ]
  },
  {
   "cell_type": "markdown",
   "metadata": {},
   "source": [
    "<table align=\"left\">\n",
    "    <tr>\n",
    "        <td width=\"3.5%\">\n",
    "            <img src=\"1200px-Python-logo-notext.svg.png\">\n",
    "        </td>\n",
    "        <td>\n",
    "            <div align=\"left\", style=\"font-size:120%\">\n",
    "                <font color=\"#21618C\">\n",
    "                    <b>Q 9. Write a function find_all_routes to display all possible routes from senders location to receivers location given in the dictionary for each shipment.</b>\n",
    "                </font>\n",
    "            </div>\n",
    "        </td>\n",
    "    </tr>\n",
    "</table>"
   ]
  },
  {
   "cell_type": "markdown",
   "metadata": {},
   "source": [
    "<html>\n",
    "    <body>\n",
    "        <img src=\"graph.png\" alt=\"Graph\",height=\"300\",width=\"300\",style=\"float:left\">\n",
    "        <img src=\"Matrix.png\" alt=\"Graph\",height=\"300\",width=\"300\",style=\"float:center\">\n",
    "    </body>\n",
    "</html>"
   ]
  },
  {
   "cell_type": "code",
   "execution_count": 18,
   "metadata": {},
   "outputs": [],
   "source": [
    "#creating matrix for the graph\n",
    "matrix = [[0,1,0,0,0,1],\n",
    "          [1,0,1,1,0,0],\n",
    "          [0,1,0,1,0,0],\n",
    "          [0,1,1,0,1,0],\n",
    "          [0,0,0,1,0,0],\n",
    "          [1,0,0,0,0,0]]\n",
    "\n",
    "#Creating a graph DS for the above matrix.\n",
    "graph = {1:[2,6],2:[1,3,4],3:[2,4],4:[2,3,5],5:[4],6:[1]}"
   ]
  },
  {
   "cell_type": "code",
   "execution_count": 19,
   "metadata": {},
   "outputs": [
    {
     "name": "stdout",
     "output_type": "stream",
     "text": [
      "Enter the first node:1\n",
      "Enter the second node:2\n",
      "All the paths from node 1 to node 2 are: [[1, 2]]\n"
     ]
    }
   ],
   "source": [
    "#Function to find all paths\n",
    "\n",
    "def find_all_paths(graph, start, end, path=[]):\n",
    "        path = path + [start]\n",
    "        if start == end:\n",
    "            return [path]\n",
    "        if start not in graph.keys():\n",
    "            return []\n",
    "        paths = []\n",
    "        for node in graph[start]:\n",
    "            if node not in path:\n",
    "                newpaths = find_all_paths(graph, node, end, path)\n",
    "                for newpath in newpaths:\n",
    "                    paths.append(newpath)\n",
    "        return paths\n",
    "    \n",
    "#getting the inputs of nodes   \n",
    "a = int(input(\"Enter the first node:\"))\n",
    "b = int(input(\"Enter the second node:\"))\n",
    "    \n",
    "all_paths=find_all_paths(graph,a,b)\n",
    "print(\"All the paths from node\",a,\"to node\",b,\"are:\",all_paths)"
   ]
  }
 ],
 "metadata": {
  "kernelspec": {
   "display_name": "Python 3",
   "language": "python",
   "name": "python3"
  },
  "language_info": {
   "codemirror_mode": {
    "name": "ipython",
    "version": 3
   },
   "file_extension": ".py",
   "mimetype": "text/x-python",
   "name": "python",
   "nbconvert_exporter": "python",
   "pygments_lexer": "ipython3",
   "version": "3.8.8"
  }
 },
 "nbformat": 4,
 "nbformat_minor": 4
}
